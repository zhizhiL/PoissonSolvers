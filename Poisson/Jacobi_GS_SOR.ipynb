{
 "cells": [
  {
   "cell_type": "code",
   "execution_count": 3,
   "metadata": {},
   "outputs": [
    {
     "data": {
      "text/plain": [
       "<matplotlib.pyplot._IonContext at 0x7f37a00c1310>"
      ]
     },
     "execution_count": 3,
     "metadata": {},
     "output_type": "execute_result"
    }
   ],
   "source": [
    "import numpy as np\n",
    "import matplotlib.pyplot as plt\n",
    "plt.ion()"
   ]
  },
  {
   "cell_type": "code",
   "execution_count": 34,
   "metadata": {},
   "outputs": [],
   "source": [
    "##### grid details\n",
    "Lx = 1\n",
    "Ly = 1\n",
    "\n",
    "NX = 14;  nx = NX - 2\n",
    "NY = 16;  ny = NY - 2\n",
    "\n",
    "dx = Lx / (nx+1)   ## we dont consider ghost points here\n",
    "dy = Ly / (ny+1)\n",
    "\n",
    "x = np.linspace(dx, Lx - dx, nx)\n",
    "y = np.linspace(dy , Ly - dy, ny)\n",
    "\n",
    "xx, yy = np.meshgrid(x, y)\n",
    "\n",
    "##### initialise stream-function \n",
    "psi_0 = np.zeros((NY, NX)) \n",
    "\n",
    "##### initialise vorticity field\n",
    "omega = np.zeros((NY, NX))\n",
    "omega[1:-1, 1:-1] = -2 * (np.pi**2) * np.sin(np.pi*xx) * np.sin(np.pi*yy)\n",
    "\n",
    "##### the exact solution, for testing \n",
    "psi_ext = np.zeros((NY, NX))\n",
    "psi_ext[1:-1, 1:-1] = np.sin(np.pi*xx) * np.sin(np.pi*yy) \n",
    "\n",
    "# fig1, ax2 = plt.subplots(constrained_layout=True)\n",
    "# CS = ax2.contourf(xx, yy, psi_ext[1:-1, 1:-1], 50)\n",
    "# cbar = fig1.colorbar(CS)\n",
    "# ax2.set_aspect('equal')\n",
    "\n"
   ]
  },
  {
   "cell_type": "code",
   "execution_count": null,
   "metadata": {},
   "outputs": [],
   "source": [
    "def PoissonSol_Jacobi(dx, dy, omega, psi_0, tol):\n",
    "    \n",
    "    psi = psi_0.copy()\n",
    "    psi_n = np.zeros_like(psi)\n",
    "    err = np.sqrt(np.sum((psi-psi_ext)**2))\n",
    "    niter = 0\n",
    "\n",
    "    ### for convergence test plotting\n",
    "    err_test = []\n",
    "    # fig, ax = plt.subplots()\n",
    "    # ax.plot(N_conv_test, err_test)\n",
    "    # plt.show()\n",
    "\n",
    "    while err > tol:\n",
    "        niter += 1\n",
    "        psi_n = psi.copy()\n",
    "\n",
    "        ## update (n+t)-th iteration for psi\n",
    "        # psi[1:-1, 1:-1] = ((dy**2)*(psi_n[1:-1, 2:] + psi_n[1:-1, :-2]) + (dx**2)*(psi_n[2:, 1:-1] + psi_n[:-2, 1:-1])\n",
    "        #                     - dx**2 * dy**2 * omega[1:-1, 1:-1]) / (2*(dx**2+dy**2))\n",
    "\n",
    "        psi[1:-1, 1:-1] = (psi_n[1:-1, 2:] + psi_n[1:-1, :-2] + (dx**2/dy**2)*psi_n[2:,1:-1] + \n",
    "                            (dx**2/dy**2)*psi_n[:-2,1:-1] - dx**2 * omega[1:-1, 1:-1]) / (2*(1+dx**2/dy**2))\n",
    "        \n",
    "\n",
    "\n",
    "        ## exam error in the current iteration\n",
    "        err = np.sqrt(np.sum((psi-psi_ext)**2))\n",
    "        err_test.append(err)\n",
    "        \n",
    "        # ## update convergence test plot\n",
    "        # plt.cla()\n",
    "        # ax.plot(N_conv_test, err_test)\n",
    "            \n",
    "\n",
    "    return psi, niter, err_test\n",
    "\n"
   ]
  },
  {
   "cell_type": "code",
   "execution_count": null,
   "metadata": {},
   "outputs": [],
   "source": [
    "#### Gauss-Seidel method\n",
    "\n",
    "def PoissonSol_GaussSeidel(dx, dy, omega, psi_0,  tol):\n",
    "\n",
    "    psi = psi_0.copy()\n",
    "    niter = 0\n",
    "    err = 10\n",
    "    RSE = []\n",
    "\n",
    "    while err > tol :\n",
    "\n",
    "        for xi in range(1, NX-1):\n",
    "            for yj in range(1, NY-1):\n",
    "                # psi_n = psi.copy()\n",
    "                # psi[yj, xi] = ((dy**2)*(psi[yj, (xi-1)] + psi_n[yj, (xi+1)]) + (dx**2)*(psi[(yj-1), xi] + psi_n[(yj+1), xi])\n",
    "                #                 - dx**2 * dy**2 * omega[yj, xi]) / (2*(dx**2+dy**2))\n",
    "                psi[yj, xi] = ((dy**2)*(psi[yj, (xi-1)] + psi[yj, (xi+1)]) + (dx**2)*(psi[(yj-1), xi] + psi[(yj+1), xi])\n",
    "                                - dx**2 * dy**2 * omega[yj, xi]) / (2*(dx**2+dy**2))\n",
    "        \n",
    "        niter += 1\n",
    "        err = np.sqrt(np.sum((psi-psi_ext)**2))\n",
    "        RSE.append(err)\n",
    "\n",
    "    return psi, niter, RSE\n"
   ]
  },
  {
   "cell_type": "code",
   "execution_count": null,
   "metadata": {},
   "outputs": [],
   "source": [
    "#### Gauss-Seidel method\n",
    "\n",
    "def PoissonSol_GaussSeidel(dx, dy, omega, psi_0,  tol):\n",
    "\n",
    "    psi = psi_0.copy()\n",
    "    niter = 0\n",
    "    err = 10\n",
    "    RSE = []\n",
    "\n",
    "    while err > tol :\n",
    "\n",
    "        for xi in range(1, NX-1):\n",
    "            for yj in range(1, NY-1):\n",
    "                # psi_n = psi.copy()\n",
    "                # psi[yj, xi] = ((dy**2)*(psi[yj, (xi-1)] + psi_n[yj, (xi+1)]) + (dx**2)*(psi[(yj-1), xi] + psi_n[(yj+1), xi])\n",
    "                #                 - dx**2 * dy**2 * omega[yj, xi]) / (2*(dx**2+dy**2))\n",
    "                psi[yj, xi] = ((dy**2)*(psi[yj, (xi-1)] + psi[yj, (xi+1)]) + (dx**2)*(psi[(yj-1), xi] + psi[(yj+1), xi])\n",
    "                                - dx**2 * dy**2 * omega[yj, xi]) / (2*(dx**2+dy**2))\n",
    "        \n",
    "        niter += 1\n",
    "        err = np.sqrt(np.sum((psi-psi_ext)**2))\n",
    "        RSE.append(err)\n",
    "\n",
    "    return psi, niter, RSE"
   ]
  },
  {
   "cell_type": "code",
   "execution_count": null,
   "metadata": {},
   "outputs": [],
   "source": [
    "res_J, N_J, Err_test_J = PoissonSol_Jacobi(dx, dy, omega, psi_0, tol=0.01)\n",
    "err_exp_J = [Err_test_J[0]*(np.cos(np.pi/(nx+1)))**k for k in range(N_J)]\n",
    "\n",
    "res_GS, N_GS, Err_test_GS = PoissonSol_GaussSeidel(dx, dy, omega, psi_0, tol=0.01)\n",
    "\n",
    "plt.plot(np.arange(N_J), Err_test_J, '-b', label='iteration errors Jacobi')\n",
    "plt.plot(np.arange(N_J), err_exp_J, '-r', label='expected error')\n",
    "plt.plot(np.arange(N_GS), Err_test_GS, label='iteration errors GS')\n",
    "plt.legend(loc=\"upper right\")\n"
   ]
  },
  {
   "cell_type": "code",
   "execution_count": 9,
   "metadata": {},
   "outputs": [],
   "source": [
    "#### SOR method\n",
    "\n",
    "def PoissonSol_SOR(dx, dy, omega, psi_0, param, tol):\n",
    "\n",
    "    psi = psi_0.copy()\n",
    "    niter = 0\n",
    "    err = 10\n",
    "    RSE = []\n",
    "\n",
    "    while err > tol :\n",
    "\n",
    "        for xi in range(1, NX-1):\n",
    "            for yj in range(1, NY-1):\n",
    "                psi_GS_loc = ((dy**2)*(psi[yj, (xi-1)] + psi[yj, (xi+1)]) + (dx**2)*(psi[(yj-1), xi] + psi[(yj+1), xi])\n",
    "                                - dx**2 * dy**2 * omega[yj, xi]) / (2*(dx**2+dy**2))\n",
    "                psi[yj, xi] = param * psi_GS_loc + (1 - param) * psi[yj, xi]\n",
    "        \n",
    "        niter += 1\n",
    "        err = np.sqrt(np.sum((psi-psi_ext)**2))\n",
    "        RSE.append(err)\n",
    "\n",
    "    return psi, niter, RSE\n"
   ]
  },
  {
   "cell_type": "code",
   "execution_count": 16,
   "metadata": {},
   "outputs": [
    {
     "data": {
      "text/plain": [
       "[<matplotlib.lines.Line2D at 0x7f376f5427f0>]"
      ]
     },
     "execution_count": 16,
     "metadata": {},
     "output_type": "execute_result"
    },
    {
     "data": {
      "image/png": "[encoded data removed]",
      "text/plain": [
       "<Figure size 432x288 with 1 Axes>"
      ]
     },
     "metadata": {
      "needs_background": "light"
     },
     "output_type": "display_data"
    }
   ],
   "source": [
    "### SOR parameter test\n",
    "\n",
    "params = np.linspace(1, 1.7, 8)\n",
    "res = [PoissonSol_SOR(dx, dy, omega, psi_0, param_test, tol=0.01) for param_test in params]\n",
    "Ns = [res[i][1] for i in range(len(res))]\n",
    "plt.plot(params, Ns)"
   ]
  },
  {
   "cell_type": "code",
   "execution_count": 36,
   "metadata": {},
   "outputs": [
    {
     "data": {
      "text/plain": [
       "0.9427280128266049"
      ]
     },
     "execution_count": 36,
     "metadata": {},
     "output_type": "execute_result"
    }
   ],
   "source": [
    "import sympy as smp\n",
    "from sympy import symbols, lambdify\n",
    "#### create an expression for convergence rate rho as a function of params. \n",
    "param_sym = symbols('w')\n",
    "mu_sym = symbols('\\mu')\n",
    "rho_expr = (param_sym*mu_sym + smp.sqrt(param_sym**2 * mu_sym**2 - 4*(param_sym-1)))**2 / 4\n",
    "rho = lambdify((param_sym, mu_sym), rho_expr, 'numpy')\n",
    "\n",
    "#### param mu is determined by grid numbers \n",
    "mu = np.cos(np.pi/(nx+1))\n",
    "param_opt = 2 / (1+np.sin(np.pi/(nx+1)))\n",
    "rho(1, mu)"
   ]
  }
 ],
 "metadata": {
  "kernelspec": {
   "display_name": "base",
   "language": "python",
   "name": "python3"
  },
  "language_info": {
   "codemirror_mode": {
    "name": "ipython",
    "version": 3
   },
   "file_extension": ".py",
   "mimetype": "text/x-python",
   "name": "python",
   "nbconvert_exporter": "python",
   "pygments_lexer": "ipython3",
   "version": "3.9.12"
  },
  "orig_nbformat": 4,
  "vscode": {
   "interpreter": {
    "hash": "1a764bf7dce90d2064ec98c8eb2af12b527368ace4549f9ce6fdabc9745d4ee9"
   }
  }
 },
 "nbformat": 4,
 "nbformat_minor": 2
}
